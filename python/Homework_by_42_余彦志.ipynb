{
  "nbformat": 4,
  "nbformat_minor": 0,
  "metadata": {
    "colab": {
      "provenance": [],
      "authorship_tag": "ABX9TyPMxfAnAD6zDid55of9ma8t",
      "include_colab_link": true
    },
    "kernelspec": {
      "name": "python3",
      "display_name": "Python 3"
    },
    "language_info": {
      "name": "python"
    }
  },
  "cells": [
    {
      "cell_type": "markdown",
      "metadata": {
        "id": "view-in-github",
        "colab_type": "text"
      },
      "source": [
        "<a href=\"https://colab.research.google.com/github/yuhrtm/Tibame_GAD245/blob/main/Homework_by_42_%E4%BD%99%E5%BD%A6%E5%BF%97.ipynb\" target=\"_parent\"><img src=\"https://colab.research.google.com/assets/colab-badge.svg\" alt=\"Open In Colab\"/></a>"
      ]
    },
    {
      "cell_type": "markdown",
      "source": [
        "#第一題\n",
        "\n",
        "假設我總共有一百層階梯, 現在我有兩種走路方式，一種是踏一層, 第二種是踏兩層\n",
        "\n",
        "###請問：我到達第一百層的時候, 總共有幾種不同方式？"
      ],
      "metadata": {
        "id": "5q4uaQM370YT"
      }
    },
    {
      "cell_type": "markdown",
      "source": [
        "---\n"
      ],
      "metadata": {
        "id": "a-g-tGQYXokO"
      }
    },
    {
      "cell_type": "code",
      "execution_count": null,
      "metadata": {
        "colab": {
          "base_uri": "https://localhost:8080/"
        },
        "id": "fgdnTmcJ7zPF",
        "outputId": "d23e5b0f-d423-45f0-d96b-e762a714d736"
      },
      "outputs": [
        {
          "output_type": "stream",
          "name": "stdout",
          "text": [
            "第 100 階的走法數 = 573147844013817084101\n"
          ]
        }
      ],
      "source": [
        "# -------------------------\n",
        "# 設定初始變數\n",
        "# -------------------------\n",
        "one_step = 1    # 第 1 階只有 1 種走法\n",
        "two_steps = 2   # 第 2 階有 2 種走法\n",
        "\n",
        "current_step = 3  # 從第 3 階開始\n",
        "\n",
        "# -------------------------\n",
        "# 使用 while True + break\n",
        "# -------------------------\n",
        "while True:\n",
        "    # 若超過 100 階就停止\n",
        "    if current_step > 100:\n",
        "        break\n",
        "\n",
        "    # 第 current_step 階的走法 = 前一階 + 前兩階\n",
        "    current_ways = one_step + two_steps\n",
        "\n",
        "    # 更新舊值\n",
        "    one_step = two_steps\n",
        "    two_steps = current_ways\n",
        "\n",
        "    # 往上走一階\n",
        "    current_step = current_step + 1\n",
        "\n",
        "# current_ways 就是第 100 階的走法數\n",
        "print(\"第 100 階的走法數 =\", current_ways)\n"
      ]
    },
    {
      "cell_type": "markdown",
      "source": [
        "---"
      ],
      "metadata": {
        "id": "g3IShMujXq2_"
      }
    },
    {
      "cell_type": "markdown",
      "source": [
        "---"
      ],
      "metadata": {
        "id": "o1WxdZzFXstu"
      }
    },
    {
      "cell_type": "markdown",
      "source": [
        "#第二題\n",
        "我已經給妳了一個加密過後的文件(使用凱薩密碼加密), 妳要幫我試試看破解這份文件\n",
        "```\n",
        "#密碼文本網址\n",
        "url = \"https://raw.githubusercontent.com/Elwing-Chou/tibame1224/refs/heads/main/password.txt\"\n",
        "```"
      ],
      "metadata": {
        "id": "T_0Rky668v-w"
      }
    },
    {
      "cell_type": "markdown",
      "source": [
        "---\n"
      ],
      "metadata": {
        "id": "FCaqAEBpXu7t"
      }
    },
    {
      "cell_type": "code",
      "source": [
        "#第二題解答\n",
        "\n",
        "import os\n",
        "import requests\n",
        "\n",
        "# 1) 在網路找字典檔案，如果本機沒有就下載\n",
        "def download_dictionary_if_needed():\n",
        "    DICTIONARY_URL = \"https://raw.githubusercontent.com/dwyl/english-words/master/words_alpha.txt\"\n",
        "    DICTIONARY_FILE = \"words_alpha.txt\"\n",
        "\n",
        "    # 如果沒有這個檔案，就從網路下載\n",
        "    if not os.path.exists(DICTIONARY_FILE):\n",
        "        print(\"字典檔案不存在，正在下載...\")\n",
        "        response = requests.get(DICTIONARY_URL)\n",
        "\n",
        "        if response.status_code == 200:\n",
        "            # 下載成功就把文字寫進 words_alpha.txt 檔案\n",
        "            with open(DICTIONARY_FILE, \"w\") as f:\n",
        "                f.write(response.text)\n",
        "            print(\"字典檔案下載完成！\")\n",
        "        else:\n",
        "            print(\"無法下載字典檔案\")\n",
        "            # 若下載失敗，結束程式避免出錯\n",
        "            exit()\n",
        "\n",
        "# 2) 讀取字典檔案，並轉為 set (集合) 方便查詢\n",
        "def load_dictionary():\n",
        "    DICTIONARY_FILE = \"words_alpha.txt\"\n",
        "    with open(DICTIONARY_FILE, \"r\") as f:\n",
        "        all_words = f.read().split()\n",
        "    # 回傳集合，之後要判斷一個單字在不在字典裡就很快\n",
        "    return set(all_words)\n",
        "\n",
        "# 3) 解密「凱薩密碼」的函式\n",
        "def decrypt_caesar_cipher(text, shift):\n",
        "    \"\"\"\n",
        "    text: 加密過的字串\n",
        "    shift: 位移量 (1~25 之間)\n",
        "    \"\"\"\n",
        "    result = \"\"\n",
        "    for char in text:\n",
        "        if char.isalpha():  # 只對英文字母做位移\n",
        "            # 判斷是大寫 (A~Z) 還是小寫 (a~z)\n",
        "            if char.isupper():\n",
        "                base = ord('A')  # 大寫 A 的 Unicode 編碼\n",
        "            else:\n",
        "                base = ord('a')  # 小寫 a 的 Unicode 編碼\n",
        "\n",
        "            # 解密公式： (原字元編碼 - base - shift) % 26 + base\n",
        "            new_char_code = (ord(char) - base - shift) % 26 + base\n",
        "            # 轉回字元\n",
        "            result += chr(new_char_code)\n",
        "        else:\n",
        "            # 如果不是英文字母就原樣保留\n",
        "            result += char\n",
        "    return result\n",
        "\n",
        "# 4) 計算「解密後的文本」中，有多少單字存在於字典裡\n",
        "def count_dictionary_words(text, dictionary_set):\n",
        "    \"\"\"\n",
        "    text: 解密後的文本\n",
        "    dictionary_set: 字典集合\n",
        "    \"\"\"\n",
        "    words = text.split()  # 以空格切割出每個單字\n",
        "    count = 0\n",
        "\n",
        "    for w in words:\n",
        "        # 去除常見標點符號\n",
        "        clean_word = w.strip(\".,!?;:()[]{}\\\"'\")\n",
        "\n",
        "        # 忽略大小寫（都轉成小寫再檢查）\n",
        "        if clean_word.lower() in dictionary_set:\n",
        "            count += 1\n",
        "\n",
        "    return count\n",
        "\n",
        "# 5) 嘗試所有位移量 (1~25)，找出最可能的解密方式\n",
        "def crack_caesar_cipher(encrypted_text, dictionary_set):\n",
        "    best_shift = 0\n",
        "    best_decrypted_text = \"\"\n",
        "    max_count = 0  # 紀錄最對得上字典的單字數量\n",
        "\n",
        "    # 依序測試 shift = 1 到 25\n",
        "    for shift in range(1, 26):\n",
        "        # 先解密\n",
        "        decrypted_text = decrypt_caesar_cipher(encrypted_text, shift)\n",
        "        # 再算算這份解密結果中，有多少英文單字\n",
        "        word_count = count_dictionary_words(decrypted_text, dictionary_set)\n",
        "\n",
        "        # 如果單字數量比目前記錄的多，就更新最佳解\n",
        "        if word_count > max_count:\n",
        "            max_count = word_count\n",
        "            best_shift = shift\n",
        "            best_decrypted_text = decrypted_text\n",
        "\n",
        "    return best_shift, best_decrypted_text\n",
        "\n",
        "\n",
        "# ------------------------\n",
        "# 「主程式」從這裡開始\n",
        "# ------------------------\n",
        "\n",
        "# (A) 先檢查字典，若沒有，就下載\n",
        "download_dictionary_if_needed()\n",
        "\n",
        "# (B) 接著讀取字典，取得英文單詞集合\n",
        "ENGLISH_WORDS = load_dictionary()\n",
        "\n",
        "# (C) 從網址下載一份「已被凱薩密碼加密」的檔案\n",
        "ENCRYPTED_FILE_URL = \"https://raw.githubusercontent.com/Elwing-Chou/tibame1224/refs/heads/main/password.txt\"\n",
        "print(\"正在下載加密文件...\")\n",
        "response = requests.get(ENCRYPTED_FILE_URL)\n",
        "\n",
        "if response.status_code == 200:\n",
        "    encrypted_text = response.text\n",
        "    print(\"加密文件下載成功。\")\n",
        "else:\n",
        "    print(\"無法下載加密文件\")\n",
        "    exit()\n",
        "\n",
        "# (D) 使用上面的 crack_caesar_cipher 函式，測試所有位移量\n",
        "print(\"正在嘗試解密，請稍候...\")\n",
        "best_shift, best_decrypted_text = crack_caesar_cipher(encrypted_text, ENGLISH_WORDS)\n",
        "\n",
        "# (E) 印出解密結果\n",
        "print(\"\")\n",
        "print(\"=== 解密結果 ===\")\n",
        "print(\"最有可能的位移量:\", best_shift)\n",
        "print(\"解密後的文本內容:\")\n",
        "print(best_decrypted_text)\n"
      ],
      "metadata": {
        "colab": {
          "base_uri": "https://localhost:8080/"
        },
        "id": "CEj_yqQF-lqT",
        "outputId": "d1167616-446d-431e-be76-4bc18603a8a8"
      },
      "execution_count": null,
      "outputs": [
        {
          "output_type": "stream",
          "name": "stdout",
          "text": [
            "正在下載加密文件...\n",
            "加密文件下載成功。\n",
            "正在嘗試解密，請稍候...\n",
            "\n",
            "=== 解密結果 ===\n",
            "最有可能的位移量: 15\n",
            "解密後的文本內容:\n",
            "a long-expected party\n",
            "\n",
            "when mr. bilbo baggins of bag end announced that he would shortly be celebrating his eleventy-first birthday with a party of special magnificence, there was much talk and excitement in hobbiton.\n",
            "\n",
            "bilbo was very rich and very peculiar, and had been the wonder of the shire for sixty years, ever since his remarkable disappearance and unexpected return. the riches he had brought back from his travels had now become a local legend, and it was popularly believed, whatever the old folk might say, that the hill at bag end was full of tunnels stuffed with treasure. and if that was not enough for fame, there was also his prolonged vigour to marvel at. time wore on, but it seemed to have little effect on mr. baggins. at ninety he was much the same as at fifty. at ninety-nine they began to call him well-preserved, but unchanged would have been nearer the mark. there were some that shook their heads and thought this was too much of a good thing; it seemed unfair that anyone should possess (apparently) perpetual youth as well as (reputedly) inexhaustible wealth.\n",
            "\n",
            "'it will have to be paid for,' they said. 'it isn't natural, and trouble will come of it!'\n"
          ]
        }
      ]
    },
    {
      "cell_type": "markdown",
      "source": [
        "---\n",
        "---"
      ],
      "metadata": {
        "id": "navswa8jXw7m"
      }
    },
    {
      "cell_type": "markdown",
      "source": [
        "#第三題\n",
        "請畫出以下圖示"
      ],
      "metadata": {
        "id": "AZcPxMxxBqYD"
      }
    },
    {
      "cell_type": "markdown",
      "source": [
        "![image.png](data:image/png;base64,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)"
      ],
      "metadata": {
        "id": "C_E7vO_mBjAj"
      }
    },
    {
      "cell_type": "markdown",
      "source": [
        "---\n"
      ],
      "metadata": {
        "id": "glIYBpVBX0VR"
      }
    },
    {
      "cell_type": "code",
      "source": [
        "#第三題解答\n",
        "\n",
        "\n",
        "# 第一步：安裝 ColabTurtle\n",
        "!pip install ColabTurtle\n",
        "\n",
        "# 匯入所需模組\n",
        "import ColabTurtle.Turtle as turtle\n",
        "import math  # 用來做開平方根 (sqrt)\n",
        "\n",
        "# ---------------------------------------------\n",
        "# 函式：draw_square\n",
        "# ---------------------------------------------\n",
        "def draw_square(side_length, rotate_angle):\n",
        "    \"\"\"\n",
        "    畫出一個「以螢幕中央 (0,0) 為中心」的正方形，\n",
        "    並依照 rotate_angle (度數) 進行旋轉。\n",
        "    \"\"\"\n",
        "    # 1. 把海龜移回 (0,0) 並歸向東方 (預設 0 度)\n",
        "    turtle.penup()\n",
        "    turtle.home()\n",
        "\n",
        "    # 2. 旋轉指定角度\n",
        "    turtle.setheading(rotate_angle)\n",
        "\n",
        "    # 3. 為了讓方形「置中」，先向後（左）移動半邊長，再向下移動半邊長\n",
        "    turtle.backward(side_length / 2)\n",
        "    turtle.right(90)\n",
        "    turtle.forward(side_length / 2)\n",
        "    turtle.left(90)\n",
        "\n",
        "    # 4. 開始畫正方形\n",
        "    turtle.pendown()\n",
        "    step_count = 0\n",
        "    while step_count < 4:\n",
        "        turtle.forward(side_length)\n",
        "        turtle.left(90)\n",
        "        step_count += 1\n",
        "    turtle.penup()\n",
        "\n",
        "# ---------------------------------------------\n",
        "# 函式：main\n",
        "# ---------------------------------------------\n",
        "def main():\n",
        "    \"\"\"\n",
        "    主程式：連續畫出多層方形。\n",
        "    每一層畫完後，將邊長縮小為原來的 1/√2 並交替旋轉 45 度。\n",
        "    \"\"\"\n",
        "    side = 300       # 第一層方形的邊長\n",
        "    total_layers = 7 # 總層數\n",
        "\n",
        "    current_layer = 0\n",
        "    while current_layer < total_layers:\n",
        "        # 如果是奇數層，就旋轉 45 度；否則轉 0 度\n",
        "        if current_layer % 2 == 1:\n",
        "            angle = 45\n",
        "        else:\n",
        "            angle = 0\n",
        "\n",
        "        # 畫出當前這層的方形\n",
        "        draw_square(side, angle)\n",
        "\n",
        "        # 將邊長縮小為原本的 1/√2\n",
        "        side = side / math.sqrt(2)\n",
        "\n",
        "        current_layer += 1\n",
        "\n",
        "# ---------------------------------------------\n",
        "# 程式開始執行\n",
        "# ---------------------------------------------\n",
        "turtle.initializeTurtle()  # 建立 ColabTurtle 畫布\n",
        "\n",
        "# 設定背景、畫筆顏色、速度及筆粗細\n",
        "turtle.bgcolor(\"black\")\n",
        "turtle.color(\"white\")\n",
        "turtle.speed(13)   # 1 ~ 13 之間，數字越大速度越快\n",
        "turtle.pensize(2)\n",
        "\n",
        "# 執行主程式\n",
        "main()\n",
        "\n",
        "# ColabTurtle 不需要 turtle.done()\n"
      ],
      "metadata": {
        "colab": {
          "base_uri": "https://localhost:8080/",
          "height": 539
        },
        "id": "l7ITuiMeBwtP",
        "outputId": "fa35ba5b-4f62-4f24-87a5-0ed1ae854657"
      },
      "execution_count": null,
      "outputs": [
        {
          "output_type": "stream",
          "name": "stdout",
          "text": [
            "Requirement already satisfied: ColabTurtle in /usr/local/lib/python3.10/dist-packages (2.1.0)\n"
          ]
        },
        {
          "output_type": "display_data",
          "data": {
            "text/plain": [
              "<IPython.core.display.HTML object>"
            ],
            "text/html": [
              "\n",
              "      <svg width=\"800\" height=\"500\">\n",
              "        <rect width=\"100%\" height=\"100%\" fill=\"black\"/>\n",
              "        <line x1=\"250.0\" y1=\"400.0\" x2=\"550.0\" y2=\"400.0\" stroke-linecap=\"round\" style=\"stroke:white;stroke-width:2\"/><line x1=\"550.0\" y1=\"400.0\" x2=\"550.0\" y2=\"100.0\" stroke-linecap=\"round\" style=\"stroke:white;stroke-width:2\"/><line x1=\"550.0\" y1=\"100.0\" x2=\"250.0\" y2=\"100.0\" stroke-linecap=\"round\" style=\"stroke:white;stroke-width:2\"/><line x1=\"250.0\" y1=\"100.0\" x2=\"250.0\" y2=\"400.0\" stroke-linecap=\"round\" style=\"stroke:white;stroke-width:2\"/><line x1=\"250.0\" y1=\"250.0\" x2=\"400.0\" y2=\"400.0\" stroke-linecap=\"round\" style=\"stroke:white;stroke-width:2\"/><line x1=\"400.0\" y1=\"400.0\" x2=\"550.0\" y2=\"250.0\" stroke-linecap=\"round\" style=\"stroke:white;stroke-width:2\"/><line x1=\"550.0\" y1=\"250.0\" x2=\"400.0\" y2=\"100.0\" stroke-linecap=\"round\" style=\"stroke:white;stroke-width:2\"/><line x1=\"400.0\" y1=\"100.0\" x2=\"250.0\" y2=\"250.0\" stroke-linecap=\"round\" style=\"stroke:white;stroke-width:2\"/><line x1=\"325.0\" y1=\"325.0\" x2=\"475.0\" y2=\"325.0\" stroke-linecap=\"round\" style=\"stroke:white;stroke-width:2\"/><line x1=\"475.0\" y1=\"325.0\" x2=\"475.0\" y2=\"175.0\" stroke-linecap=\"round\" style=\"stroke:white;stroke-width:2\"/><line x1=\"475.0\" y1=\"175.0\" x2=\"325.0\" y2=\"175.0\" stroke-linecap=\"round\" style=\"stroke:white;stroke-width:2\"/><line x1=\"325.0\" y1=\"175.0\" x2=\"325.0\" y2=\"325.0\" stroke-linecap=\"round\" style=\"stroke:white;stroke-width:2\"/><line x1=\"325.0\" y1=\"250.0\" x2=\"400.0\" y2=\"325.0\" stroke-linecap=\"round\" style=\"stroke:white;stroke-width:2\"/><line x1=\"400.0\" y1=\"325.0\" x2=\"475.0\" y2=\"250.0\" stroke-linecap=\"round\" style=\"stroke:white;stroke-width:2\"/><line x1=\"475.0\" y1=\"250.0\" x2=\"400.0\" y2=\"175.0\" stroke-linecap=\"round\" style=\"stroke:white;stroke-width:2\"/><line x1=\"400.0\" y1=\"175.0\" x2=\"325.0\" y2=\"250.0\" stroke-linecap=\"round\" style=\"stroke:white;stroke-width:2\"/><line x1=\"362.5\" y1=\"287.5\" x2=\"437.5\" y2=\"287.5\" stroke-linecap=\"round\" style=\"stroke:white;stroke-width:2\"/><line x1=\"437.5\" y1=\"287.5\" x2=\"437.5\" y2=\"212.5\" stroke-linecap=\"round\" style=\"stroke:white;stroke-width:2\"/><line x1=\"437.5\" y1=\"212.5\" x2=\"362.5\" y2=\"212.5\" stroke-linecap=\"round\" style=\"stroke:white;stroke-width:2\"/><line x1=\"362.5\" y1=\"212.5\" x2=\"362.5\" y2=\"287.5\" stroke-linecap=\"round\" style=\"stroke:white;stroke-width:2\"/><line x1=\"362.5\" y1=\"250.0\" x2=\"400.0\" y2=\"287.5\" stroke-linecap=\"round\" style=\"stroke:white;stroke-width:2\"/><line x1=\"400.0\" y1=\"287.5\" x2=\"437.5\" y2=\"250.0\" stroke-linecap=\"round\" style=\"stroke:white;stroke-width:2\"/><line x1=\"437.5\" y1=\"250.0\" x2=\"400.0\" y2=\"212.5\" stroke-linecap=\"round\" style=\"stroke:white;stroke-width:2\"/><line x1=\"400.0\" y1=\"212.5\" x2=\"362.5\" y2=\"250.0\" stroke-linecap=\"round\" style=\"stroke:white;stroke-width:2\"/><line x1=\"381.25\" y1=\"268.75\" x2=\"418.75\" y2=\"268.75\" stroke-linecap=\"round\" style=\"stroke:white;stroke-width:2\"/><line x1=\"418.75\" y1=\"268.75\" x2=\"418.75\" y2=\"231.25\" stroke-linecap=\"round\" style=\"stroke:white;stroke-width:2\"/><line x1=\"418.75\" y1=\"231.25\" x2=\"381.25\" y2=\"231.25\" stroke-linecap=\"round\" style=\"stroke:white;stroke-width:2\"/><line x1=\"381.25\" y1=\"231.25\" x2=\"381.25\" y2=\"268.75\" stroke-linecap=\"round\" style=\"stroke:white;stroke-width:2\"/>\n",
              "        <g visibility=visible transform=\"rotate(90,381.25,268.75) translate(363.25, 250.75)\">\n",
              "<path style=\" stroke:none;fill-rule:evenodd;fill:white;fill-opacity:1;\" d=\"M 18.214844 0.632812 C 16.109375 1.800781 15.011719 4.074219 15.074219 7.132812 L 15.085938 7.652344 L 14.785156 7.496094 C 13.476562 6.824219 11.957031 6.671875 10.40625 7.066406 C 8.46875 7.550781 6.515625 9.15625 4.394531 11.992188 C 3.0625 13.777344 2.679688 14.636719 3.042969 15.027344 L 3.15625 15.152344 L 3.519531 15.152344 C 4.238281 15.152344 4.828125 14.886719 8.1875 13.039062 C 9.386719 12.378906 10.371094 11.839844 10.378906 11.839844 C 10.386719 11.839844 10.355469 11.929688 10.304688 12.035156 C 9.832031 13.09375 9.257812 14.820312 8.96875 16.078125 C 7.914062 20.652344 8.617188 24.53125 11.070312 27.660156 C 11.351562 28.015625 11.363281 27.914062 10.972656 28.382812 C 8.925781 30.84375 7.945312 33.28125 8.238281 35.1875 C 8.289062 35.527344 8.28125 35.523438 8.917969 35.523438 C 10.941406 35.523438 13.074219 34.207031 15.136719 31.6875 C 15.359375 31.417969 15.328125 31.425781 15.5625 31.574219 C 16.292969 32.042969 18.023438 32.964844 18.175781 32.964844 C 18.335938 32.964844 19.941406 32.210938 20.828125 31.71875 C 20.996094 31.625 21.136719 31.554688 21.136719 31.558594 C 21.203125 31.664062 21.898438 32.414062 22.222656 32.730469 C 23.835938 34.300781 25.5625 35.132812 27.582031 35.300781 C 27.90625 35.328125 27.9375 35.308594 28.007812 34.984375 C 28.382812 33.242188 27.625 30.925781 25.863281 28.425781 L 25.542969 27.96875 L 25.699219 27.785156 C 28.945312 23.960938 29.132812 18.699219 26.257812 11.96875 L 26.207031 11.84375 L 27.945312 12.703125 C 31.53125 14.476562 32.316406 14.800781 33.03125 14.800781 C 33.976562 14.800781 33.78125 13.9375 32.472656 12.292969 C 28.519531 7.355469 25.394531 5.925781 21.921875 7.472656 L 21.558594 7.636719 L 21.578125 7.542969 C 21.699219 6.992188 21.761719 5.742188 21.699219 5.164062 C 21.496094 3.296875 20.664062 1.964844 19.003906 0.855469 C 18.480469 0.503906 18.457031 0.5 18.214844 0.632812\"/>\n",
              "</g>\n",
              "      </svg>\n",
              "    "
            ]
          },
          "metadata": {}
        }
      ]
    },
    {
      "cell_type": "markdown",
      "source": [
        "---\n"
      ],
      "metadata": {
        "id": "iUs2vrScV68w"
      }
    }
  ]
}
